{
 "cells": [
  {
   "cell_type": "code",
   "execution_count": 2,
   "id": "3cd34493-3739-49e4-a51e-e6a5b8aa78cc",
   "metadata": {},
   "outputs": [],
   "source": [
    "import sqlite3\n",
    "from sqlalchemy import create_engine\n",
    "engine = create_engine('sqlite:///relative/results.db', echo = False)\n",
    "conn = sqlite3.connect(\"results.db\")"
   ]
  },
  {
   "cell_type": "code",
   "execution_count": 3,
   "id": "b66af774-9adb-4f3f-983d-638db641b6f8",
   "metadata": {},
   "outputs": [],
   "source": [
    "import sqlite3\n",
    "from sqlalchemy import create_engine\n",
    "engine = create_engine('sqlite:///relative/results.db', echo = False)\n",
    "conn = sqlite3.connect(\"results_v2.db\")"
   ]
  },
  {
   "cell_type": "code",
   "execution_count": null,
   "id": "62377a02-1c9d-4801-9e68-3f4760884a05",
   "metadata": {},
   "outputs": [],
   "source": []
  }
 ],
 "metadata": {
  "kernelspec": {
   "display_name": "Python 3 (ipykernel)",
   "language": "python",
   "name": "python3"
  },
  "language_info": {
   "codemirror_mode": {
    "name": "ipython",
    "version": 3
   },
   "file_extension": ".py",
   "mimetype": "text/x-python",
   "name": "python",
   "nbconvert_exporter": "python",
   "pygments_lexer": "ipython3",
   "version": "3.8.12"
  }
 },
 "nbformat": 4,
 "nbformat_minor": 5
}
